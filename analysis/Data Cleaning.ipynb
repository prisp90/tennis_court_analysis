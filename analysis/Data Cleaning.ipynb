{
 "cells": [
  {
   "cell_type": "code",
   "execution_count": null,
   "id": "37113f83",
   "metadata": {},
   "outputs": [],
   "source": [
    "import pandas as pd\n",
    "import string\n",
    "import openpyxl\n",
    "from openpyxl import load_workbook\n",
    "from openpyxl.utils import get_column_letter\n",
    "import csv"
   ]
  },
  {
   "cell_type": "code",
   "execution_count": null,
   "id": "24e831d3",
   "metadata": {},
   "outputs": [],
   "source": [
    "# loads 'TennisCourts.xlsx' file, retrieves the 'city name' values \n",
    "# from the first column, and stores them in a list named \"city_column_list\".\n",
    "\n",
    "xl_path_1 = \"/Users/pumpedup_py/Downloads/TennisCourts.xlsx\"\n",
    "wb_1 = openpyxl.load_workbook(xl_path_1)\n",
    "main_sheet_1 = wb_1[\"Sheet1\"]\n",
    "\n",
    "city_column_list = []\n",
    "\n",
    "for i in range(2, main_sheet_1.max_row+1):\n",
    "    city_name = main_sheet_1.cell(row=i, column=1).value\n",
    "    city_column_list.append(city_name)"
   ]
  },
  {
   "cell_type": "code",
   "execution_count": null,
   "id": "b05a4ca7",
   "metadata": {},
   "outputs": [],
   "source": [
    "# loads 'population_updatedMar28.xlsx' file, retrieves the 'city name' values \n",
    "# from the first column, and stores them in a list named \"city_match_list\".\n",
    "\n",
    "xl_path_2 = \"/Users/pumpedup_py/Downloads/population_updatedMar28.xlsx\"\n",
    "wb_2 = openpyxl.load_workbook(xl_path_2)\n",
    "main_sheet_2 = wb_2[\"population\"]\n",
    "\n",
    "city_match_list = []\n",
    "\n",
    "for i in range(2, main_sheet_2.max_row+1):\n",
    "    for city in city_column_list:\n",
    "        if city == main_sheet_2.cell(row=i, column=1).value:\n",
    "            city_match_list.append(i)"
   ]
  },
  {
   "cell_type": "code",
   "execution_count": null,
   "id": "959b1bc0",
   "metadata": {},
   "outputs": [],
   "source": [
    "# finds the missing values between the min and max numbers in a list called \"city_match_list\" \n",
    "# and prints them as a list named \"missing_nums\".\n",
    "\n",
    "min_num = min(city_match_list)\n",
    "max_num = max(city_match_list)\n",
    "\n",
    "missing_nums = [num for num in range(min_num, max_num + 1) if num not in city_match_list]\n",
    "\n",
    "for row_num in sorted(missing_nums, reverse=True):\n",
    "    main_sheet_2.delete_rows(row_num)\n",
    "\n",
    "wb_2.save(xl_path_2)"
   ]
  },
  {
   "cell_type": "code",
   "execution_count": null,
   "id": "3d723a99",
   "metadata": {},
   "outputs": [],
   "source": [
    "# find the differences between two lists, and identify any duplicates \n",
    "# in the \"Population\" list.\n",
    "\n",
    "TennisCourts = []\n",
    "Population = []\n",
    "duplicates = []\n",
    "\n",
    "for i in range(2, main_sheet_1.max_row+1):\n",
    "    city_name = main_sheet_1.cell(row=i, column=1).value\n",
    "    TennisCourts.append(city_name)\n",
    "\n",
    "for i in range(2, main_sheet_2.max_row+1):\n",
    "    city_name = main_sheet_2.cell(row=i, column=1).value\n",
    "    Population.append(city_name)\n",
    "    \n",
    "set_1 = set(TennisCourts)\n",
    "set_2 = set(Population)\n",
    "\n",
    "difference = set_1 - set_2\n",
    "\n",
    "difference_list = list(difference)\n",
    "\n",
    "for item in Population:\n",
    "    if Population.count(item) > 1 and item not in duplicates:\n",
    "        duplicates.append(item)\n",
    "\n",
    "print(\"The duplicate items are:\", duplicates)"
   ]
  }
 ],
 "metadata": {
  "kernelspec": {
   "display_name": "Python 3 (ipykernel)",
   "language": "python",
   "name": "python3"
  },
  "language_info": {
   "codemirror_mode": {
    "name": "ipython",
    "version": 3
   },
   "file_extension": ".py",
   "mimetype": "text/x-python",
   "name": "python",
   "nbconvert_exporter": "python",
   "pygments_lexer": "ipython3",
   "version": "3.8.8"
  }
 },
 "nbformat": 4,
 "nbformat_minor": 5
}
