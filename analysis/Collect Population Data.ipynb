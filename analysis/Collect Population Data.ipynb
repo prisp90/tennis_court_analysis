{
 "cells": [
  {
   "cell_type": "code",
   "execution_count": null,
   "id": "8fb4440a",
   "metadata": {},
   "outputs": [],
   "source": [
    "from selenium import webdriver\n",
    "from selenium.webdriver.chrome.service import Service\n",
    "from selenium.webdriver.chrome.options import Options\n",
    "from webdriver_manager.chrome import ChromeDriverManager\n",
    "from bs4 import BeautifulSoup\n",
    "\n",
    "import pandas as pd\n",
    "import string\n",
    "import openpyxl\n",
    "from openpyxl import load_workbook\n",
    "from openpyxl.utils import get_column_letter\n",
    "import csv"
   ]
  },
  {
   "cell_type": "code",
   "execution_count": null,
   "id": "ac5eec09",
   "metadata": {},
   "outputs": [],
   "source": [
    "options = Options()\n",
    "options.add_experimental_option(\"detach\", True)\n",
    "\n",
    "driver = webdriver.Chrome(service=Service(ChromeDriverManager().install()),\n",
    "                         options = options)"
   ]
  },
  {
   "cell_type": "code",
   "execution_count": null,
   "id": "14b123c2",
   "metadata": {},
   "outputs": [],
   "source": [
    "xl_path = \"/Users/pumpedup_py/Library/CloudStorage/OneDrive-GeorgiaInstituteofTechnology/GIT OMSA/Spring 2023/CSE 6242/Project/ListofCity.xlsx\"\n",
    "wb = openpyxl.load_workbook(xl_path)\n",
    "main_sheet = wb[\"Sheet1\"]\n",
    "\n",
    "city_column_list = []\n",
    "\n",
    "for i in range(1, main_sheet.max_row+1):\n",
    "    city_name = main_sheet.cell(row=i, column=1).value\n",
    "    city_column_list.append(city_name)"
   ]
  },
  {
   "cell_type": "code",
   "execution_count": null,
   "id": "9be9b5e7",
   "metadata": {},
   "outputs": [],
   "source": [
    "xl_path = \"/Users/pumpedup_py/Library/CloudStorage/OneDrive-GeorgiaInstituteofTechnology/GIT OMSA/Spring 2023/CSE 6242/Project/Population.xlsx\"\n",
    "wb = openpyxl.load_workbook(xl_path)\n",
    "main_sheet = wb[\"population\"]\n",
    "\n",
    "for i in range(len(city_column_list)):\n",
    "    main_sheet.cell(row=1, column=i+2).value = city_column_list[i]\n",
    "\n",
    "wb.save(xl_path)"
   ]
  },
  {
   "cell_type": "code",
   "execution_count": null,
   "id": "9e197304",
   "metadata": {},
   "outputs": [],
   "source": [
    "# extracts table data from a web page, and cleans the data by removing specific characters.\n",
    "# The cleaned population table data is returned.\n",
    "\n",
    "def get_table_data():\n",
    "    html_content = driver.page_source\n",
    "\n",
    "    soup = BeautifulSoup(html_content, 'html.parser')\n",
    "\n",
    "    div=soup.select_one(\"div#qfcontent\")\n",
    "    table=pd.read_html(str(div))\n",
    "    table_data = table[1][\"Unnamed: 1\"].to_frame()\n",
    "\n",
    "    spec_chars = [\" \"]\n",
    "    for char in spec_chars:\n",
    "        table_data = table_data.apply(lambda x: x.str.replace(char,''))\n",
    "    \n",
    "    return table_data"
   ]
  },
  {
   "cell_type": "code",
   "execution_count": null,
   "id": "4c8d76ce",
   "metadata": {},
   "outputs": [],
   "source": [
    "def write_df_to_excel(file_path, sheet_name, df, column_idx):\n",
    "    # Load the Excel file\n",
    "    book = load_workbook(file_path)\n",
    "\n",
    "    # Select the sheet you want to write to\n",
    "    writer = pd.ExcelWriter(filename, engine='openpyxl') \n",
    "    writer.book = book\n",
    "    writer.sheets = dict((ws.title, ws) for ws in book.worksheets)\n",
    "    ws = writer.sheets[sheet_name]\n",
    "\n",
    "    # Load your data into a DataFrame\n",
    "    df = df\n",
    "\n",
    "    # Define the starting column index and row number to write to\n",
    "    start_row = 2\n",
    "\n",
    "    # Write the DataFrame to the Excel file\n",
    "    for index, row in df.iterrows():\n",
    "        for i, value in enumerate(row):\n",
    "            column_index = column_idx + i\n",
    "            column_letter = get_column_letter(column_index)\n",
    "            cell = f'{column_letter}{start_row + index}'\n",
    "            ws[cell] = value\n",
    "\n",
    "    # Save the changes to the Excel file\n",
    "    writer.save()"
   ]
  },
  {
   "cell_type": "code",
   "execution_count": null,
   "id": "16388c0c",
   "metadata": {},
   "outputs": [],
   "source": [
    "# loops over a list of cities and for each city, \n",
    "# opens a webpage on the US Census Bureau website to extract population data for that city,\n",
    "# and then writes the data to an Excel file.\n",
    "\n",
    "for i in enumerate(city_list):\n",
    "    driver.get(\"https://www.census.gov/quickfacts/fact/table/\" + i[1] +\"/PST045222\")\n",
    "    \n",
    "    file_path = \"/Users/pumpedup_py/Library/CloudStorage/OneDrive-GeorgiaInstituteofTechnology/GIT OMSA/Spring 2023/CSE 6242/Project/Population.xlsx\"\n",
    "    sheet_name = 'population'\n",
    "    df = get_table_data()\n",
    "    column_idx = i[0] + 2\n",
    "    \n",
    "    write_df_to_excel(file_path, sheet_name, df, column_idx)"
   ]
  },
  {
   "cell_type": "code",
   "execution_count": null,
   "id": "f074c56a",
   "metadata": {},
   "outputs": [],
   "source": []
  }
 ],
 "metadata": {
  "kernelspec": {
   "display_name": "Python 3 (ipykernel)",
   "language": "python",
   "name": "python3"
  },
  "language_info": {
   "codemirror_mode": {
    "name": "ipython",
    "version": 3
   },
   "file_extension": ".py",
   "mimetype": "text/x-python",
   "name": "python",
   "nbconvert_exporter": "python",
   "pygments_lexer": "ipython3",
   "version": "3.8.8"
  }
 },
 "nbformat": 4,
 "nbformat_minor": 5
}
